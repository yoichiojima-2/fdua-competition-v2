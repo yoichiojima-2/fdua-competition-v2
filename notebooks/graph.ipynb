{
 "cells": [
  {
   "cell_type": "code",
   "execution_count": 12,
   "id": "eeab9338-fd83-40a1-b668-ad8c1415223f",
   "metadata": {},
   "outputs": [],
   "source": [
    "import os\n",
    "from pathlib import Path\n",
    "from fdua_competition.vectorstore import build_vectorstore, get_document_list, get_documents_dir\n",
    "from fdua_competition.enums import Mode, VectorStoreOption, ChatModelOption\n",
    "from fdua_competition.rag import get_chat_model, read_prompt\n",
    "from langchain_core.prompts import ChatPromptTemplate\n",
    "from fdua_competition.utils import get_queries\n",
    "from tqdm import tqdm\n",
    "from pydantic import BaseModel, Field"
   ]
  },
  {
   "cell_type": "code",
   "execution_count": 2,
   "id": "5b2a8bda-c7f2-4d49-b597-73af489782bc",
   "metadata": {},
   "outputs": [],
   "source": [
    "query = \"extract name of organization\""
   ]
  },
  {
   "cell_type": "code",
   "execution_count": 3,
   "id": "39005c2d-8945-48ad-9662-59268028086b",
   "metadata": {},
   "outputs": [
    {
     "name": "stdout",
     "output_type": "stream",
     "text": [
      "[prepare_vectorstore] chroma: /fdua-competition/.fdua-competition/vectorstores/chroma\n"
     ]
    }
   ],
   "source": [
    "db = build_vectorstore(os.getenv(\"OUTPUT_NAME\"), Mode.TEST, VectorStoreOption.CHROMA)"
   ]
  },
  {
   "cell_type": "code",
   "execution_count": 4,
   "id": "3ea021e2-3a53-4972-ba44-31c95f11022f",
   "metadata": {},
   "outputs": [],
   "source": [
    "class Organizations(BaseModel):\n",
    "    organizations: list[str] = Field(description=\"[company names]\")\n",
    "    source: str = Field(description=\"source file\")\n",
    "\n",
    "\n",
    "def extract_organization_names(path: Path) -> Organizations:\n",
    "    query = \"extract all the company names mentioned in the documents\"\n",
    "    prompt_template = ChatPromptTemplate.from_messages(\n",
    "        [\n",
    "            (\"system\", read_prompt(\"information_extractor\")),\n",
    "            (\"system\", \"documents:\\n{documents}\"),\n",
    "            (\"user\", \"{query}\")\n",
    "        ]\n",
    "    )\n",
    "    documents = db.as_retriever().invoke(query, filter={\"source\": str(path)})\n",
    "    chat_model = get_chat_model(ChatModelOption.AZURE).with_structured_output(Organizations)\n",
    "    chain = prompt_template | chat_model\n",
    "    return chain.invoke({\"documents\": documents, \"query\": query})"
   ]
  },
  {
   "cell_type": "code",
   "execution_count": 5,
   "id": "065174c2-5686-4e8f-84d2-2901a5e33044",
   "metadata": {},
   "outputs": [
    {
     "name": "stderr",
     "output_type": "stream",
     "text": [
      "extrcting organization names...: 100% 10/10 [00:49<00:00,  4.99s/it]\n"
     ]
    }
   ],
   "source": [
    "docs = get_document_list(get_documents_dir(Mode.TEST))\n",
    "orgs = [extract_organization_names(doc) for doc in tqdm(docs, desc=\"extrcting organization names...\")]"
   ]
  },
  {
   "cell_type": "code",
   "execution_count": 6,
   "id": "cbf6182e-d061-461c-8e26-3e93404030e1",
   "metadata": {},
   "outputs": [
    {
     "name": "stdout",
     "output_type": "stream",
     "text": [
      "/fdua-competition/.fdua-competition/validation/documents/9.pdf\n",
      "['東洋紡', 'TOYOBO', '東洋紡グループ']\n",
      "\n",
      "/fdua-competition/.fdua-competition/validation/documents/8.pdf\n",
      "['dentsu', '株式会社電通グループ']\n",
      "\n",
      "/fdua-competition/.fdua-competition/validation/documents/10.pdf\n",
      "['日本化薬グループ', 'ニッポンカヤクコリア', 'ポラテクノ', 'ニッポンカヤク（タイランド）', '台湾日化股', 'モクステック', 'ニッポンカヤクアメリカ', 'カヤク アドバンスト マテリアルズ', 'カヤク セイフティシステムズ デ メキシコ', '厚和産業', 'ニッカファインテクノ', 'テイコクテーピングシステム', '上海化耀国際貿易', '無錫先進化薬化', '化薬化工（無錫）', '無錫宝来光学科技', 'レイスペック', 'デジマ オプティカル フィルムズ', 'ユーロニッポンカヤク', 'カヤク セイフティシステムズ ヨーロッパ', '日本化薬フードテク', '和光都市開発', '化薬（湖州）安全器材', '化薬（上海）管理', 'カヤク セイフティシステムズ マレーシア', '化薬（湖州）安全器材有限公司', 'カヤク セイフティシステムズ ヨーロッパ a.s.', 'カヤク セイフティシステムズ デ メキシコ, S.A. de C.V.', 'カヤク セイフティシステムズ マレーシア Sdn.Bhd.', 'ニッポンカヤクアメリカ, INC.', '株式会社ポラテクノ', 'カヤク アドバンスト マテリアルズ, Inc.', 'テイコクテーピングシステム株式会社', '無錫先進化薬化工有限公司', '上海化耀国際貿易有限公司', 'ニッポンカヤク（タイランド） CO., LTD.', 'モクステック,Inc.', '無錫宝来光学科技有限公司', 'デジマ オプティカル フィルムズ B.V.', 'レイスペック Ltd.', '株式会社ニッカファインテクノ', 'ニッポンカヤクコリア.Co.,Ltd', 'ユーロニッポンカヤク GmbH']\n",
      "\n",
      "/fdua-competition/.fdua-competition/validation/documents/6.pdf\n",
      "['大成温調株式会社']\n",
      "\n",
      "source\n",
      "['Daiwa House Group', 'コスモスイニシア', '大和リース', 'フジタ', '大和ハウスリフォーム', 'ロイヤルホームセンター', 'デザインアーク', '株式会社愛木舎', '株式会社アイピーシー', '青木あすなろ建設株式会社', '明石木材株式会社', '株式会社淺沼組', '淡路技研株式会社', '株式会社池田木材', '株式会社エス・ワイ', '株式会社オオサコ', 'おしまフローリング株式会社', '株式会社オーク', '株式会社光大', '孝和建商株式会社', '株式会社コクヨ東北販売', '有限会社児玉内装', '三洋UD株式会社', '株式会社ジャンボ', '株式会社秋北', '昭和木材株式会社', '株式会社シンエイ', '合同会社スミタ建装', '株式会社千田工業', '双日建材株式会社', '株式会社タクミコーポレーション', '株式会社TASK', '中国木材株式会社', '株式会社ツーケン工業', '津田産業株式会社', '土浦木材株式会社', '株式会社DIYセンチュリー', '株式会社Taビルドアンドマテリアル', '株式会社テクセル', '株式会社TOHKAI', '東京中央木材市場株式会社', '東京ボード工業株式会社', 'トーセン株式会社', '東豊木材株式会社', 'トーヨーマテリア株式会社', '株式会社西浦組', '日本製紙木材株式会社', 'ニホンフラッシュ株式会社', '株式会社沼田工務店', '株式会社ハタノ', '株式会社バルコ', '株式会社松本商店', 'マルコー株式会社', '株式会社ミツヤ', '株式会社三和木', '株式会社モビーリア', '株式会社森建装', '株式会社山本工務店', '株式会社ヤマイケ', '株式会社UFG', 'ワクラス株式会社', '株式会社ワタザイ']\n",
      "\n",
      "/fdua-competition/.fdua-competition/validation/documents/5.pdf\n",
      "['太陽誘電株式会社', '太陽誘電（廣東）有限公司', '新潟太陽誘電株式会社', '和歌山太陽誘電株式会社', '太陽誘電モバイルテクノロジー株式会社', '太陽誘電ケミカルテクノロジー株式会社', '太陽誘電テクノソリューションズ株式会社', 'サンヴァーテックス株式会社', '株式会社環境アシスト', '福島太陽誘電株式会社', 'エルナー株式会社', '太陽誘電（上海）電子貿易有限公司', '韓国太陽誘電株式会社', '韓国慶南太陽誘電株式会社', '太陽誘電（中国）投資有限公司', '太陽誘電(常州) 電子有限公司', '台湾太陽誘電股份有限公司', '香港太陽誘電有限公司', 'TAIYO YUDEN (PHILIPPINES), INC.', 'TAIYO YUDEN (SINGAPORE) PTE. LTD.', 'TAIYO YUDEN (SARAWAK) SDN. BHD.', 'TAIYO YUDEN (U.S.A.) INC.', 'TAIYO YUDEN TRADING (THAILAND) CO., LTD.', 'TAIYO YUDEN (MALAYSIA) SDN. BHD.', 'TAIYO YUDEN EUROPE GmbH']\n",
      "\n",
      "/fdua-competition/.fdua-competition/validation/documents/4.pdf\n",
      "['花王株式会社', 'Kao Corporation', 'CDP', 'Ethisphere LLC', 'Ethisphere Institute', '三井住友信託銀行株式会社', '株式会社日本カストディ銀行', 'SMBC日興証券株式会社', 'ジェーピー モルガン チェース バンク', '日本証券金融株式会社', '日本生命保険相互会社', 'ザ バンク オブ ニューヨーク', 'JPモルガン証券株式会社', 'ステート ストリート バンクアンド トラスト カンパニー']\n",
      "\n",
      "/fdua-competition/.fdua-competition/validation/documents/1.pdf\n",
      "['ウエルシアホールディングス株式会社', '株式会社三越伊勢丹ホールディングス', '京王電鉄株式会社', '石坂産業株式会社', 'セコム株式会社', '日清オイリオグループ株式会社']\n",
      "\n",
      "/fdua-competition/.fdua-competition/validation/documents/3.pdf\n",
      "['ダイドーグループホールディングス', 'DyDoグループ', 'ダイドービバレッジサービス株式会社', 'アサヒ飲料販売株式会社', 'サイボウズ株式会社']\n",
      "\n",
      "/fdua-competition/.fdua-competition/validation/documents/2.pdf\n",
      "['エクシオグループ株式会社', 'シーキューブ株式会社', '西部電気工業株式会社', '日本電通株式会社', '大和電設工業株式会社', '株式会社エクシオテック', 'ARCO社', 'エクシオ・エンジニアリング株式会社', '北日本通信株式会社', 'エクシオ・システムマネジメント（株）', '新栄通信株式会社', '株式会社サンクレックス', '株式会社エクシオモバイル', 'Exeo Global Pte. Ltd.', 'MG EXEO NETWORK, INC.', 'Leng Aik Engineering Pte. Ltd.', 'EXEO ASIA CO., LTD.', 'EXEO Global Asset Holdings Pte. Ltd.', 'Aeqon Pte. Ltd.', 'dhost Pte. Ltd.', 'Arco Pte. Ltd.', 'Ascent Solutions Pte. Ltd.', 'Winner Engineering Pte. Ltd.', '68 Systems & Project Engineering Pte. Ltd.', 'GUUD Pte. Ltd.', 'エクシオ・エンジニアリング北海道（株）', 'エクシオ・エンジニアリング東北（株）', 'エクシオ・エンジニアリング西日本（株）', 'エクシオ・エンジニアリング（株）', '（株）カナック', '（株）ケイ・テクノス', '光プログレス（株）', '（株）電盛社', 'ジャストエンジニアリング（株）', 'エクシオ・デジタルソリューションズ（株）', '（株）アドヴァンスト・インフォーメイション・デザイン', '（株）WHERE', '北第百通信電気（株）', '（株）サン・プラニング・システムズ', '（株）シーピーユー', '（株）DENKEN', '（株）リョウセイ', '光陽エンジニアリング（株）', '（株）サンエツ', '北日本通信（株）', 'エクシオインフラ（株）', '（株）コーケン', '機動建設工業（株）', '（株）イセキ開発工機', '（株）あしかがエコパワー', '（株）ふるどの論田エコパワー']\n",
      "\n"
     ]
    }
   ],
   "source": [
    "for org in orgs:\n",
    "    print(org.source)\n",
    "    print(org.organizations)\n",
    "    print()"
   ]
  },
  {
   "cell_type": "code",
   "execution_count": 7,
   "id": "f10ae7c8-05b4-4b42-af5f-7edc2f839174",
   "metadata": {},
   "outputs": [],
   "source": [
    "class SourceToLookup(BaseModel):\n",
    "    query: str = Field(description=\"query\")\n",
    "    source: str = Field(description=\"source file to look up\")\n",
    "\n",
    "\n",
    "def search_source_to_lookup(query, orgs):    \n",
    "    prompt_template = ChatPromptTemplate.from_messages(\n",
    "        [\n",
    "            (\"system\", read_prompt(\"retrieval_assistant\")),\n",
    "            (\"system\", \"organizations:\\n{organization}\"),\n",
    "            (\"user\", \"query: {query}\")\n",
    "        ]\n",
    "    )\n",
    "    chat_model = get_chat_model(ChatModelOption.AZURE).with_structured_output(SourceToLookup)\n",
    "    chain = prompt_template | chat_model\n",
    "    context = \"\\n\\n\".join([f\"- {org.source}: {org.organizations}\" for org in orgs])\n",
    "    return chain.invoke({\"organization\": context, \"query\": query})"
   ]
  },
  {
   "cell_type": "code",
   "execution_count": 8,
   "id": "0db89b28-5af2-4680-b9b1-201a40433d0d",
   "metadata": {},
   "outputs": [
    {
     "name": "stderr",
     "output_type": "stream",
     "text": [
      "finding source to reference...: 100% 50/50 [01:49<00:00,  2.19s/it]\n"
     ]
    }
   ],
   "source": [
    "docs_to_lookup = [search_source_to_lookup(query, orgs) for query in tqdm(get_queries(Mode.TEST), desc=\"finding source to reference...\")]"
   ]
  },
  {
   "cell_type": "code",
   "execution_count": 9,
   "id": "fecb0373-0148-407e-b7a0-5272de3f08e1",
   "metadata": {},
   "outputs": [
    {
     "data": {
      "text/plain": [
       "[SourceToLookup(query='大成温調が積極的に資源配分を行うとしている高付加価値セグメントを全てあげてください。', source='/fdua-competition/.fdua-competition/validation/documents/6.pdf'),\n",
       " SourceToLookup(query='花王の生産拠点数は何拠点ですか？', source='/fdua-competition/.fdua-competition/validation/documents/4.pdf'),\n",
       " SourceToLookup(query='電通グループPurposeは何ですか？', source='/fdua-competition/.fdua-competition/validation/documents/8.pdf'),\n",
       " SourceToLookup(query='2023年度の大成温調の連結純資産配当率（DOE）は何%でしたか？', source='/fdua-competition/.fdua-competition/validation/documents/6.pdf'),\n",
       " SourceToLookup(query='ダイドーグループの従業員数において、2012年から2023年までの12年間で、医薬品関連が食品を下回った年を全てあげてください。', source='/fdua-competition/.fdua-competition/validation/documents/3.pdf'),\n",
       " SourceToLookup(query='東洋紡の取締役の在籍期間において、0~3年と4~9年ではどちらの方が取締役の人数が多いか', source='/fdua-competition/.fdua-competition/validation/documents/9.pdf'),\n",
       " SourceToLookup(query='東洋紡グループのコア技術を4つ答えてください。', source='/fdua-competition/.fdua-competition/validation/documents/9.pdf'),\n",
       " SourceToLookup(query='ダイドーグループが2012年に立ち上げたチャネルの国内飲料事業の中での売上は何％か', source='/fdua-competition/.fdua-competition/validation/documents/3.pdf'),\n",
       " SourceToLookup(query='ウエルシアホールディングスが掲げる2030のありたい姿はなんですか？', source='/fdua-competition/.fdua-competition/validation/documents/1.pdf'),\n",
       " SourceToLookup(query='日本化薬グループが「TCFD提言」に賛同したのは何年何月ですか？', source='/fdua-competition/.fdua-competition/validation/documents/10.pdf'),\n",
       " SourceToLookup(query='花王の製品ライフサイクル全体のCO2 排出量において2019年度と2020年度ではどちらの数値が大きいか', source='/fdua-competition/.fdua-competition/validation/documents/4.pdf'),\n",
       " SourceToLookup(query='電通グループの電力使用に伴うCO2排出量ゼロを達成した撮影スタジオの名称を答えよ。', source='/fdua-competition/.fdua-competition/validation/documents/8.pdf'),\n",
       " SourceToLookup(query='ダイドーグループの国内飲料事業では保有している自販機台数は約何台ですか？', source='/fdua-competition/.fdua-competition/validation/documents/3.pdf'),\n",
       " SourceToLookup(query='2024年2月29日現在、ウエルシアホールディングスの子会社は全部で何社ですか？', source='/fdua-competition/.fdua-competition/validation/documents/1.pdf'),\n",
       " SourceToLookup(query='エクシオグループの主な事業セグメントを全てあげてください。', source='/fdua-competition/.fdua-competition/validation/documents/2.pdf'),\n",
       " SourceToLookup(query='太陽誘電の電動アシスト自転車向けの回生電動アシストシステムの名称をアルファベットのみで回答してください。', source='/fdua-competition/.fdua-competition/validation/documents/5.pdf'),\n",
       " SourceToLookup(query='クビアカツヤカミキリが寄生する樹木として挙げられているものの名称を全て答えよ', source='unknown'),\n",
       " SourceToLookup(query='日本化薬グループの国内グループ会社と海外グループ会社で、2023年度の中央環境安全衛生診断の実施件数はどちらが多いですか？', source='/fdua-competition/.fdua-competition/validation/documents/10.pdf'),\n",
       " SourceToLookup(query='大和ハウス工業が運営するホテルで、客室への設置を順次廃止したものは？', source='/fdua-competition/.fdua-competition/validation/documents/6.pdf'),\n",
       " SourceToLookup(query='大和ハウス工業が2023年度に新たに開発・稼働した再生可能エネルギー発電所の数は何箇所？', source='/fdua-competition/.fdua-competition/validation/documents/6.pdf'),\n",
       " SourceToLookup(query='東洋紡の2023年度の特許保有件数は何件ですか？', source='/fdua-competition/.fdua-competition/validation/documents/9.pdf'),\n",
       " SourceToLookup(query='電通グループの社名が「株式会社電通」と改称されたのは何年ですか。', source='/fdua-competition/.fdua-competition/validation/documents/8.pdf'),\n",
       " SourceToLookup(query='大成温調の社是は何ですか？', source='/fdua-competition/.fdua-competition/validation/documents/6.pdf'),\n",
       " SourceToLookup(query='花王の取締役を除く監査役のスキルマトリックスにおいて、一番多く丸がついている方の丸の数はいくつですか？', source='/fdua-competition/.fdua-competition/validation/documents/4.pdf'),\n",
       " SourceToLookup(query='新栄通信、サンクレックスなどが合併した会社の事業内容を答えよ。', source='/fdua-competition/.fdua-competition/validation/documents/2.pdf'),\n",
       " SourceToLookup(query='東洋紡の2023年度の売上高は2022年度と比較して何％上昇したか、少数第二位を四捨五入して答えよ', source='/fdua-competition/.fdua-competition/validation/documents/9.pdf'),\n",
       " SourceToLookup(query='太陽誘電が開発した最小サイズのMLCCの寸法は何×何mmですか？', source='/fdua-competition/.fdua-competition/validation/documents/5.pdf'),\n",
       " SourceToLookup(query='エクシオグループの2023年度の売上高において、都市インフラ事業とシステムソリューション事業ではどちらが売上が高いですか？', source='/fdua-competition/.fdua-competition/validation/documents/2.pdf'),\n",
       " SourceToLookup(query='太陽誘電が2023年度に新たに工場を設立した国をすべて教えてください。', source='/fdua-competition/.fdua-competition/validation/documents/5.pdf'),\n",
       " SourceToLookup(query='「サステナブル・ビジョン2030」で掲げたありたい姿としてどのようなことを掲げていますか？', source='unknown'),\n",
       " SourceToLookup(query='エクシオグループの取締役で、マーケティング・グローバルビジネスにスキルを持つ方は何名でしょうか？', source='/fdua-competition/.fdua-competition/validation/documents/2.pdf'),\n",
       " SourceToLookup(query='太陽誘電のコンデンサの2023年度の売上高は何億円ですか？', source='/fdua-competition/.fdua-competition/validation/documents/5.pdf'),\n",
       " SourceToLookup(query='花王の発行済株式の総数は発行可能株式総数の何％ですか？少数第二位を四捨五入して答えてください。', source='/fdua-competition/.fdua-competition/validation/documents/4.pdf'),\n",
       " SourceToLookup(query='大成温調の純資産において、2022年度と2023年度ではどちらが大きいでしょうか？', source='/fdua-competition/.fdua-competition/validation/documents/6.pdf'),\n",
       " SourceToLookup(query='大成温調の2024年3月期の売上高成長率が前期と同じであると仮定した場合、2025年3月期の売上高は何百万円になると予測できますか？十万円の位で四捨五入して答えてください。', source='/fdua-competition/.fdua-competition/validation/documents/6.pdf'),\n",
       " SourceToLookup(query='KAYAKU spiritとはどのような内容ですか？', source='/fdua-competition/.fdua-competition/validation/documents/10.pdf'),\n",
       " SourceToLookup(query='ウエルシアホールディングスの新しいPBの第1弾として発売されたものを全て教えてください。', source='/fdua-competition/.fdua-competition/validation/documents/1.pdf'),\n",
       " SourceToLookup(query='大和ハウス工業において、水のリサイクル量が二百万立方メートルを超える施設にて、2024年度から予定している発電方法は何？', source='/fdua-competition/.fdua-competition/validation/documents/6.pdf'),\n",
       " SourceToLookup(query='電通グループが掲げるVALUESはいくつありますか？', source='/fdua-competition/.fdua-competition/validation/documents/8.pdf'),\n",
       " SourceToLookup(query='2020年度から2023年度までの日本化薬グループのリサイクル率の平均は何％か、小数第二位を四捨五入して答えよ。', source='/fdua-competition/.fdua-competition/validation/documents/10.pdf'),\n",
       " SourceToLookup(query='ウエルシアホールディングスにおいて、2024年2月29日現在の深夜営業店舗数は何店舗か', source='/fdua-competition/.fdua-competition/validation/documents/1.pdf'),\n",
       " SourceToLookup(query='2023年度の太陽誘電の用途別売上構成比の自動車分野の売上構成比は何％ですか？', source='/fdua-competition/.fdua-competition/validation/documents/5.pdf'),\n",
       " SourceToLookup(query='大和ハウス工業単体で2023年度の人員合計は、2022年度と比較して増加したのは何％か', source='/fdua-competition/.fdua-competition/validation/documents/6.pdf'),\n",
       " SourceToLookup(query='ウエルシアホールディングスの2024年2月期の全売上高における医薬品売上高の構成比は何％ですか？', source='/fdua-competition/.fdua-competition/validation/documents/1.pdf'),\n",
       " SourceToLookup(query='太陽誘電の海外売上高比率は2023年度で何％ですか？', source='/fdua-competition/.fdua-competition/validation/documents/5.pdf'),\n",
       " SourceToLookup(query='大成温調が初めて自社拠点を設けた場所は何区ですか？', source='/fdua-competition/.fdua-competition/validation/documents/6.pdf'),\n",
       " SourceToLookup(query='ダイドーグループのグループ会社の中で「株式会社」という文字を除き、ひらがなのみで構成された会社名を答えよ。（回答には株式会社を含めること）', source='/fdua-competition/.fdua-competition/validation/documents/3.pdf'),\n",
       " SourceToLookup(query='日本化薬グループの創業年は何年ですか？', source='/fdua-competition/.fdua-competition/validation/documents/10.pdf'),\n",
       " SourceToLookup(query='電通グループの創業は何年ですか？', source='/fdua-competition/.fdua-competition/validation/documents/8.pdf'),\n",
       " SourceToLookup(query='エクシオグループの本社所在地は何区ですか？', source='/fdua-competition/.fdua-competition/validation/documents/2.pdf')]"
      ]
     },
     "execution_count": 9,
     "metadata": {},
     "output_type": "execute_result"
    }
   ],
   "source": [
    "docs_to_lookup"
   ]
  },
  {
   "cell_type": "code",
   "execution_count": 19,
   "id": "1797405f-f070-46fc-895f-89ec344968a4",
   "metadata": {},
   "outputs": [
    {
     "ename": "KeyError",
     "evalue": "'Input to ChatPromptTemplate is missing variables {\\'\\\\n  \"query\"\\'}.  Expected: [\\'\\\\n  \"query\"\\', \\'context\\', \\'language\\'] Received: [\\'context\\', \\'language\\']\\nNote: if you intended {\\n  \"query\"} to be part of the string and not a variable, please escape it with double curly braces like: \\'{{\\n  \"query\"}}\\'.\\nFor troubleshooting, visit: https://python.langchain.com/docs/troubleshooting/errors/INVALID_PROMPT_INPUT '",
     "output_type": "error",
     "traceback": [
      "\u001b[0;31m---------------------------------------------------------------------------\u001b[0m",
      "\u001b[0;31mKeyError\u001b[0m                                  Traceback (most recent call last)",
      "Cell \u001b[0;32mIn[19], line 24\u001b[0m\n\u001b[1;32m     20\u001b[0m     \u001b[38;5;28;01mreturn\u001b[39;00m chain\u001b[38;5;241m.\u001b[39minvoke({\u001b[38;5;124m\"\u001b[39m\u001b[38;5;124mcontext\u001b[39m\u001b[38;5;124m\"\u001b[39m: context, \u001b[38;5;124m\"\u001b[39m\u001b[38;5;124mlanguage\u001b[39m\u001b[38;5;124m\"\u001b[39m: \u001b[38;5;124m\"\u001b[39m\u001b[38;5;124mjapanese\u001b[39m\u001b[38;5;124m\"\u001b[39m})\n\u001b[1;32m     23\u001b[0m \u001b[38;5;28;01mfor\u001b[39;00m i \u001b[38;5;129;01min\u001b[39;00m docs_to_lookup:\n\u001b[0;32m---> 24\u001b[0m     \u001b[38;5;28mprint\u001b[39m(\u001b[43manswer_query\u001b[49m\u001b[43m(\u001b[49m\u001b[43mi\u001b[49m\u001b[38;5;241;43m.\u001b[39;49m\u001b[43mquery\u001b[49m\u001b[43m,\u001b[49m\u001b[43m \u001b[49m\u001b[43mi\u001b[49m\u001b[38;5;241;43m.\u001b[39;49m\u001b[43msource\u001b[49m\u001b[43m)\u001b[49m)\n",
      "Cell \u001b[0;32mIn[19], line 20\u001b[0m, in \u001b[0;36manswer_query\u001b[0;34m(query, reference)\u001b[0m\n\u001b[1;32m     18\u001b[0m chat_model \u001b[38;5;241m=\u001b[39m get_chat_model(ChatModelOption\u001b[38;5;241m.\u001b[39mAZURE)\u001b[38;5;241m.\u001b[39mwith_structured_output(ResearchAssistantResponse)\n\u001b[1;32m     19\u001b[0m chain \u001b[38;5;241m=\u001b[39m prompt_template \u001b[38;5;241m|\u001b[39m chat_model\n\u001b[0;32m---> 20\u001b[0m \u001b[38;5;28;01mreturn\u001b[39;00m \u001b[43mchain\u001b[49m\u001b[38;5;241;43m.\u001b[39;49m\u001b[43minvoke\u001b[49m\u001b[43m(\u001b[49m\u001b[43m{\u001b[49m\u001b[38;5;124;43m\"\u001b[39;49m\u001b[38;5;124;43mcontext\u001b[39;49m\u001b[38;5;124;43m\"\u001b[39;49m\u001b[43m:\u001b[49m\u001b[43m \u001b[49m\u001b[43mcontext\u001b[49m\u001b[43m,\u001b[49m\u001b[43m \u001b[49m\u001b[38;5;124;43m\"\u001b[39;49m\u001b[38;5;124;43mlanguage\u001b[39;49m\u001b[38;5;124;43m\"\u001b[39;49m\u001b[43m:\u001b[49m\u001b[43m \u001b[49m\u001b[38;5;124;43m\"\u001b[39;49m\u001b[38;5;124;43mjapanese\u001b[39;49m\u001b[38;5;124;43m\"\u001b[39;49m\u001b[43m}\u001b[49m\u001b[43m)\u001b[49m\n",
      "File \u001b[0;32m/fdua-competition/.venv/lib/python3.12/site-packages/langchain_core/runnables/base.py:3014\u001b[0m, in \u001b[0;36mRunnableSequence.invoke\u001b[0;34m(self, input, config, **kwargs)\u001b[0m\n\u001b[1;32m   3012\u001b[0m context\u001b[38;5;241m.\u001b[39mrun(_set_config_context, config)\n\u001b[1;32m   3013\u001b[0m \u001b[38;5;28;01mif\u001b[39;00m i \u001b[38;5;241m==\u001b[39m \u001b[38;5;241m0\u001b[39m:\n\u001b[0;32m-> 3014\u001b[0m     \u001b[38;5;28minput\u001b[39m \u001b[38;5;241m=\u001b[39m \u001b[43mcontext\u001b[49m\u001b[38;5;241;43m.\u001b[39;49m\u001b[43mrun\u001b[49m\u001b[43m(\u001b[49m\u001b[43mstep\u001b[49m\u001b[38;5;241;43m.\u001b[39;49m\u001b[43minvoke\u001b[49m\u001b[43m,\u001b[49m\u001b[43m \u001b[49m\u001b[38;5;28;43minput\u001b[39;49m\u001b[43m,\u001b[49m\u001b[43m \u001b[49m\u001b[43mconfig\u001b[49m\u001b[43m,\u001b[49m\u001b[43m \u001b[49m\u001b[38;5;241;43m*\u001b[39;49m\u001b[38;5;241;43m*\u001b[39;49m\u001b[43mkwargs\u001b[49m\u001b[43m)\u001b[49m\n\u001b[1;32m   3015\u001b[0m \u001b[38;5;28;01melse\u001b[39;00m:\n\u001b[1;32m   3016\u001b[0m     \u001b[38;5;28minput\u001b[39m \u001b[38;5;241m=\u001b[39m context\u001b[38;5;241m.\u001b[39mrun(step\u001b[38;5;241m.\u001b[39minvoke, \u001b[38;5;28minput\u001b[39m, config)\n",
      "File \u001b[0;32m/fdua-competition/.venv/lib/python3.12/site-packages/langchain_core/prompts/base.py:210\u001b[0m, in \u001b[0;36mBasePromptTemplate.invoke\u001b[0;34m(self, input, config, **kwargs)\u001b[0m\n\u001b[1;32m    208\u001b[0m \u001b[38;5;28;01mif\u001b[39;00m \u001b[38;5;28mself\u001b[39m\u001b[38;5;241m.\u001b[39mtags:\n\u001b[1;32m    209\u001b[0m     config[\u001b[38;5;124m\"\u001b[39m\u001b[38;5;124mtags\u001b[39m\u001b[38;5;124m\"\u001b[39m] \u001b[38;5;241m=\u001b[39m config[\u001b[38;5;124m\"\u001b[39m\u001b[38;5;124mtags\u001b[39m\u001b[38;5;124m\"\u001b[39m] \u001b[38;5;241m+\u001b[39m \u001b[38;5;28mself\u001b[39m\u001b[38;5;241m.\u001b[39mtags\n\u001b[0;32m--> 210\u001b[0m \u001b[38;5;28;01mreturn\u001b[39;00m \u001b[38;5;28;43mself\u001b[39;49m\u001b[38;5;241;43m.\u001b[39;49m\u001b[43m_call_with_config\u001b[49m\u001b[43m(\u001b[49m\n\u001b[1;32m    211\u001b[0m \u001b[43m    \u001b[49m\u001b[38;5;28;43mself\u001b[39;49m\u001b[38;5;241;43m.\u001b[39;49m\u001b[43m_format_prompt_with_error_handling\u001b[49m\u001b[43m,\u001b[49m\n\u001b[1;32m    212\u001b[0m \u001b[43m    \u001b[49m\u001b[38;5;28;43minput\u001b[39;49m\u001b[43m,\u001b[49m\n\u001b[1;32m    213\u001b[0m \u001b[43m    \u001b[49m\u001b[43mconfig\u001b[49m\u001b[43m,\u001b[49m\n\u001b[1;32m    214\u001b[0m \u001b[43m    \u001b[49m\u001b[43mrun_type\u001b[49m\u001b[38;5;241;43m=\u001b[39;49m\u001b[38;5;124;43m\"\u001b[39;49m\u001b[38;5;124;43mprompt\u001b[39;49m\u001b[38;5;124;43m\"\u001b[39;49m\u001b[43m,\u001b[49m\n\u001b[1;32m    215\u001b[0m \u001b[43m    \u001b[49m\u001b[43mserialized\u001b[49m\u001b[38;5;241;43m=\u001b[39;49m\u001b[38;5;28;43mself\u001b[39;49m\u001b[38;5;241;43m.\u001b[39;49m\u001b[43m_serialized\u001b[49m\u001b[43m,\u001b[49m\n\u001b[1;32m    216\u001b[0m \u001b[43m\u001b[49m\u001b[43m)\u001b[49m\n",
      "File \u001b[0;32m/fdua-competition/.venv/lib/python3.12/site-packages/langchain_core/runnables/base.py:1914\u001b[0m, in \u001b[0;36mRunnable._call_with_config\u001b[0;34m(self, func, input, config, run_type, serialized, **kwargs)\u001b[0m\n\u001b[1;32m   1910\u001b[0m     context \u001b[38;5;241m=\u001b[39m copy_context()\n\u001b[1;32m   1911\u001b[0m     context\u001b[38;5;241m.\u001b[39mrun(_set_config_context, child_config)\n\u001b[1;32m   1912\u001b[0m     output \u001b[38;5;241m=\u001b[39m cast(\n\u001b[1;32m   1913\u001b[0m         Output,\n\u001b[0;32m-> 1914\u001b[0m         \u001b[43mcontext\u001b[49m\u001b[38;5;241;43m.\u001b[39;49m\u001b[43mrun\u001b[49m\u001b[43m(\u001b[49m\n\u001b[1;32m   1915\u001b[0m \u001b[43m            \u001b[49m\u001b[43mcall_func_with_variable_args\u001b[49m\u001b[43m,\u001b[49m\u001b[43m  \u001b[49m\u001b[38;5;66;43;03m# type: ignore[arg-type]\u001b[39;49;00m\n\u001b[1;32m   1916\u001b[0m \u001b[43m            \u001b[49m\u001b[43mfunc\u001b[49m\u001b[43m,\u001b[49m\u001b[43m  \u001b[49m\u001b[38;5;66;43;03m# type: ignore[arg-type]\u001b[39;49;00m\n\u001b[1;32m   1917\u001b[0m \u001b[43m            \u001b[49m\u001b[38;5;28;43minput\u001b[39;49m\u001b[43m,\u001b[49m\u001b[43m  \u001b[49m\u001b[38;5;66;43;03m# type: ignore[arg-type]\u001b[39;49;00m\n\u001b[1;32m   1918\u001b[0m \u001b[43m            \u001b[49m\u001b[43mconfig\u001b[49m\u001b[43m,\u001b[49m\n\u001b[1;32m   1919\u001b[0m \u001b[43m            \u001b[49m\u001b[43mrun_manager\u001b[49m\u001b[43m,\u001b[49m\n\u001b[1;32m   1920\u001b[0m \u001b[43m            \u001b[49m\u001b[38;5;241;43m*\u001b[39;49m\u001b[38;5;241;43m*\u001b[39;49m\u001b[43mkwargs\u001b[49m\u001b[43m,\u001b[49m\n\u001b[1;32m   1921\u001b[0m \u001b[43m        \u001b[49m\u001b[43m)\u001b[49m,\n\u001b[1;32m   1922\u001b[0m     )\n\u001b[1;32m   1923\u001b[0m \u001b[38;5;28;01mexcept\u001b[39;00m \u001b[38;5;167;01mBaseException\u001b[39;00m \u001b[38;5;28;01mas\u001b[39;00m e:\n\u001b[1;32m   1924\u001b[0m     run_manager\u001b[38;5;241m.\u001b[39mon_chain_error(e)\n",
      "File \u001b[0;32m/fdua-competition/.venv/lib/python3.12/site-packages/langchain_core/runnables/config.py:396\u001b[0m, in \u001b[0;36mcall_func_with_variable_args\u001b[0;34m(func, input, config, run_manager, **kwargs)\u001b[0m\n\u001b[1;32m    394\u001b[0m \u001b[38;5;28;01mif\u001b[39;00m run_manager \u001b[38;5;129;01mis\u001b[39;00m \u001b[38;5;129;01mnot\u001b[39;00m \u001b[38;5;28;01mNone\u001b[39;00m \u001b[38;5;129;01mand\u001b[39;00m accepts_run_manager(func):\n\u001b[1;32m    395\u001b[0m     kwargs[\u001b[38;5;124m\"\u001b[39m\u001b[38;5;124mrun_manager\u001b[39m\u001b[38;5;124m\"\u001b[39m] \u001b[38;5;241m=\u001b[39m run_manager\n\u001b[0;32m--> 396\u001b[0m \u001b[38;5;28;01mreturn\u001b[39;00m \u001b[43mfunc\u001b[49m\u001b[43m(\u001b[49m\u001b[38;5;28;43minput\u001b[39;49m\u001b[43m,\u001b[49m\u001b[43m \u001b[49m\u001b[38;5;241;43m*\u001b[39;49m\u001b[38;5;241;43m*\u001b[39;49m\u001b[43mkwargs\u001b[49m\u001b[43m)\u001b[49m\n",
      "File \u001b[0;32m/fdua-competition/.venv/lib/python3.12/site-packages/langchain_core/prompts/base.py:184\u001b[0m, in \u001b[0;36mBasePromptTemplate._format_prompt_with_error_handling\u001b[0;34m(self, inner_input)\u001b[0m\n\u001b[1;32m    183\u001b[0m \u001b[38;5;28;01mdef\u001b[39;00m\u001b[38;5;250m \u001b[39m\u001b[38;5;21m_format_prompt_with_error_handling\u001b[39m(\u001b[38;5;28mself\u001b[39m, inner_input: \u001b[38;5;28mdict\u001b[39m) \u001b[38;5;241m-\u001b[39m\u001b[38;5;241m>\u001b[39m PromptValue:\n\u001b[0;32m--> 184\u001b[0m     _inner_input \u001b[38;5;241m=\u001b[39m \u001b[38;5;28;43mself\u001b[39;49m\u001b[38;5;241;43m.\u001b[39;49m\u001b[43m_validate_input\u001b[49m\u001b[43m(\u001b[49m\u001b[43minner_input\u001b[49m\u001b[43m)\u001b[49m\n\u001b[1;32m    185\u001b[0m     \u001b[38;5;28;01mreturn\u001b[39;00m \u001b[38;5;28mself\u001b[39m\u001b[38;5;241m.\u001b[39mformat_prompt(\u001b[38;5;241m*\u001b[39m\u001b[38;5;241m*\u001b[39m_inner_input)\n",
      "File \u001b[0;32m/fdua-competition/.venv/lib/python3.12/site-packages/langchain_core/prompts/base.py:178\u001b[0m, in \u001b[0;36mBasePromptTemplate._validate_input\u001b[0;34m(self, inner_input)\u001b[0m\n\u001b[1;32m    172\u001b[0m     example_key \u001b[38;5;241m=\u001b[39m missing\u001b[38;5;241m.\u001b[39mpop()\n\u001b[1;32m    173\u001b[0m     msg \u001b[38;5;241m+\u001b[39m\u001b[38;5;241m=\u001b[39m (\n\u001b[1;32m    174\u001b[0m         \u001b[38;5;124mf\u001b[39m\u001b[38;5;124m\"\u001b[39m\u001b[38;5;130;01m\\n\u001b[39;00m\u001b[38;5;124mNote: if you intended \u001b[39m\u001b[38;5;130;01m{{\u001b[39;00m\u001b[38;5;132;01m{\u001b[39;00mexample_key\u001b[38;5;132;01m}\u001b[39;00m\u001b[38;5;130;01m}}\u001b[39;00m\u001b[38;5;124m to be part of the string\u001b[39m\u001b[38;5;124m\"\u001b[39m\n\u001b[1;32m    175\u001b[0m         \u001b[38;5;124m\"\u001b[39m\u001b[38;5;124m and not a variable, please escape it with double curly braces like: \u001b[39m\u001b[38;5;124m\"\u001b[39m\n\u001b[1;32m    176\u001b[0m         \u001b[38;5;124mf\u001b[39m\u001b[38;5;124m\"\u001b[39m\u001b[38;5;124m'\u001b[39m\u001b[38;5;130;01m{{\u001b[39;00m\u001b[38;5;130;01m{{\u001b[39;00m\u001b[38;5;132;01m{\u001b[39;00mexample_key\u001b[38;5;132;01m}\u001b[39;00m\u001b[38;5;130;01m}}\u001b[39;00m\u001b[38;5;130;01m}}\u001b[39;00m\u001b[38;5;124m'\u001b[39m\u001b[38;5;124m.\u001b[39m\u001b[38;5;124m\"\u001b[39m\n\u001b[1;32m    177\u001b[0m     )\n\u001b[0;32m--> 178\u001b[0m     \u001b[38;5;28;01mraise\u001b[39;00m \u001b[38;5;167;01mKeyError\u001b[39;00m(\n\u001b[1;32m    179\u001b[0m         create_message(message\u001b[38;5;241m=\u001b[39mmsg, error_code\u001b[38;5;241m=\u001b[39mErrorCode\u001b[38;5;241m.\u001b[39mINVALID_PROMPT_INPUT)\n\u001b[1;32m    180\u001b[0m     )\n\u001b[1;32m    181\u001b[0m \u001b[38;5;28;01mreturn\u001b[39;00m inner_input\n",
      "\u001b[0;31mKeyError\u001b[0m: 'Input to ChatPromptTemplate is missing variables {\\'\\\\n  \"query\"\\'}.  Expected: [\\'\\\\n  \"query\"\\', \\'context\\', \\'language\\'] Received: [\\'context\\', \\'language\\']\\nNote: if you intended {\\n  \"query\"} to be part of the string and not a variable, please escape it with double curly braces like: \\'{{\\n  \"query\"}}\\'.\\nFor troubleshooting, visit: https://python.langchain.com/docs/troubleshooting/errors/INVALID_PROMPT_INPUT '"
     ]
    }
   ],
   "source": [
    "class ResearchAssistantResponse(BaseModel):\n",
    "    query: str = Field(description=\"the query that was asked.\")\n",
    "    response: str = Field(description=\"the answer for the given query\")\n",
    "    reason: str = Field(description=\"the reason for the response.\")\n",
    "    organization_name: str = Field(description=\"the organization name that the query is about.\")\n",
    "    contexts: list[str] = Field(description=\"the context that the response was based on with its file path and page number.\")\n",
    "\n",
    "\n",
    "def answer_query(query: str, reference: str) -> Organizations:\n",
    "    prompt_template = ChatPromptTemplate.from_messages(\n",
    "        [\n",
    "            (\"system\", read_prompt(\"research_assistant\")),\n",
    "            (\"system\", \"context:\\n{context}\"),\n",
    "            (\"user\", query)\n",
    "        ]\n",
    "    )\n",
    "    context = db.as_retriever().invoke(query, filter={\"source\": reference})\n",
    "    chat_model = get_chat_model(ChatModelOption.AZURE).with_structured_output(ResearchAssistantResponse)\n",
    "    chain = prompt_template | chat_model\n",
    "    return chain.invoke({\"context\": context, \"language\": \"japanese\"})\n",
    "\n",
    "\n",
    "for i in docs_to_lookup:\n",
    "    print(answer_query(i.query, i.source))"
   ]
  },
  {
   "cell_type": "code",
   "execution_count": null,
   "id": "1d496020-3bd2-41b7-90c0-c85c8cc2d1f5",
   "metadata": {},
   "outputs": [],
   "source": []
  }
 ],
 "metadata": {
  "kernelspec": {
   "display_name": "Python 3 (ipykernel)",
   "language": "python",
   "name": "python3"
  },
  "language_info": {
   "codemirror_mode": {
    "name": "ipython",
    "version": 3
   },
   "file_extension": ".py",
   "mimetype": "text/x-python",
   "name": "python",
   "nbconvert_exporter": "python",
   "pygments_lexer": "ipython3",
   "version": "3.12.8"
  }
 },
 "nbformat": 4,
 "nbformat_minor": 5
}
