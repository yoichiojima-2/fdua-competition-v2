{
 "cells": [
  {
   "cell_type": "code",
   "execution_count": null,
   "id": "eeab9338-fd83-40a1-b668-ad8c1415223f",
   "metadata": {},
   "outputs": [],
   "source": [
    "import os\n",
    "from pathlib import Path\n",
    "from fdua_competition.vectorstore import build_vectorstore, get_document_list, get_documents_dir\n",
    "from fdua_competition.enums import Mode, VectorStoreOption, ChatModelOption\n",
    "from fdua_competition.rag import get_chat_model, read_prompt\n",
    "from langchain_core.prompts import ChatPromptTemplate\n",
    "from fdua_competition.utils import get_queries\n",
    "from tqdm import tqdm\n",
    "from pydantic import BaseModel, Field"
   ]
  },
  {
   "cell_type": "code",
   "execution_count": null,
   "id": "5b2a8bda-c7f2-4d49-b597-73af489782bc",
   "metadata": {},
   "outputs": [],
   "source": [
    "query = \"extract name of organization\""
   ]
  },
  {
   "cell_type": "code",
   "execution_count": null,
   "id": "39005c2d-8945-48ad-9662-59268028086b",
   "metadata": {},
   "outputs": [],
   "source": [
    "db = build_vectorstore(os.getenv(\"OUTPUT_NAME\"), Mode.TEST, VectorStoreOption.CHROMA)"
   ]
  },
  {
   "cell_type": "code",
   "execution_count": null,
   "id": "3ea021e2-3a53-4972-ba44-31c95f11022f",
   "metadata": {},
   "outputs": [],
   "source": [
    "class Organizations(BaseModel):\n",
    "    organizations: list[str] = Field(description=\"[company names]\")\n",
    "    source: str = Field(description=\"source file\")\n",
    "\n",
    "\n",
    "def extract_organization_names(path: Path) -> Organizations:\n",
    "    query = \"extract all the company names mentioned in the documents\"\n",
    "    prompt_template = ChatPromptTemplate.from_messages(\n",
    "        [\n",
    "            (\"system\", read_prompt(\"information_extractor\")),\n",
    "            (\"system\", \"documents:\\n{documents}\"),\n",
    "            (\"user\", \"{query}\")\n",
    "        ]\n",
    "    )\n",
    "    documents = db.as_retriever().invoke(query, filter={\"source\": str(path)})\n",
    "    chat_model = get_chat_model(ChatModelOption.AZURE).with_structured_output(Organizations)\n",
    "    chain = prompt_template | chat_model\n",
    "    return chain.invoke({\"documents\": documents, \"query\": query})"
   ]
  },
  {
   "cell_type": "code",
   "execution_count": null,
   "id": "065174c2-5686-4e8f-84d2-2901a5e33044",
   "metadata": {},
   "outputs": [],
   "source": [
    "docs = get_document_list(get_documents_dir(Mode.TEST))\n",
    "orgs = [extract_organization_names(doc) for doc in tqdm(docs, desc=\"extrcting organization names...\")]"
   ]
  },
  {
   "cell_type": "code",
   "execution_count": null,
   "id": "cbf6182e-d061-461c-8e26-3e93404030e1",
   "metadata": {},
   "outputs": [],
   "source": [
    "for org in orgs:\n",
    "    print(org.source)\n",
    "    print(org.organizations)\n",
    "    print()"
   ]
  },
  {
   "cell_type": "code",
   "execution_count": null,
   "id": "f10ae7c8-05b4-4b42-af5f-7edc2f839174",
   "metadata": {},
   "outputs": [],
   "source": [
    "class SourceToLookup(BaseModel):\n",
    "    query: str = Field(description=\"query\")\n",
    "    source: str = Field(description=\"source file to look up\")\n",
    "\n",
    "\n",
    "def search_source_to_lookup(query, orgs):    \n",
    "    prompt_template = ChatPromptTemplate.from_messages(\n",
    "        [\n",
    "            (\"system\", read_prompt(\"retrieval_assistant\")),\n",
    "            (\"system\", \"organizations:\\n{organization}\"),\n",
    "            (\"user\", \"query: {query}\")\n",
    "        ]\n",
    "    )\n",
    "    chat_model = get_chat_model(ChatModelOption.AZURE).with_structured_output(SourceToLookup)\n",
    "    chain = prompt_template | chat_model\n",
    "    context = \"\\n\\n\".join([f\"- {org.source}: {org.organizations}\" for org in orgs])\n",
    "    return chain.invoke({\"organization\": context, \"query\": query})"
   ]
  },
  {
   "cell_type": "code",
   "execution_count": null,
   "id": "0db89b28-5af2-4680-b9b1-201a40433d0d",
   "metadata": {},
   "outputs": [],
   "source": [
    "docs_to_lookup = [search_source_to_lookup(query, orgs) for query in tqdm(get_queries(Mode.TEST), desc=\"finding source to reference...\")]"
   ]
  },
  {
   "cell_type": "code",
   "execution_count": null,
   "id": "fecb0373-0148-407e-b7a0-5272de3f08e1",
   "metadata": {},
   "outputs": [],
   "source": [
    "docs_to_lookup"
   ]
  },
  {
   "cell_type": "code",
   "execution_count": null,
   "id": "1797405f-f070-46fc-895f-89ec344968a4",
   "metadata": {},
   "outputs": [],
   "source": [
    "class ResearchAssistantResponse(BaseModel):\n",
    "    query: str = Field(description=\"the query that was asked.\")\n",
    "    response: str = Field(description=\"the answer for the given query\")\n",
    "    reason: str = Field(description=\"the reason for the response.\")\n",
    "    organization_name: str = Field(description=\"the organization name that the query is about.\")\n",
    "    contexts: list[str] = Field(description=\"the context that the response was based on with its file path and page number.\")\n",
    "\n",
    "\n",
    "def answer_query(query: str, reference: str) -> Organizations:\n",
    "    prompt_template = ChatPromptTemplate.from_messages(\n",
    "        [\n",
    "            (\"system\", read_prompt(\"research_assistant\")),\n",
    "            (\"system\", \"context:\\n{context}\"),\n",
    "            (\"user\", query)\n",
    "        ]\n",
    "    )\n",
    "    context = db.as_retriever().invoke(query, filter={\"source\": reference})\n",
    "    chat_model = get_chat_model(ChatModelOption.AZURE).with_structured_output(ResearchAssistantResponse)\n",
    "    chain = prompt_template | chat_model\n",
    "    return chain.invoke({\"context\": context, \"language\": \"japanese\"})\n",
    "\n",
    "\n",
    "for i in docs_to_lookup:\n",
    "    print(answer_query(i.query, i.source))"
   ]
  },
  {
   "cell_type": "code",
   "execution_count": null,
   "id": "1d496020-3bd2-41b7-90c0-c85c8cc2d1f5",
   "metadata": {},
   "outputs": [],
   "source": []
  }
 ],
 "metadata": {
  "kernelspec": {
   "display_name": "Python 3 (ipykernel)",
   "language": "python",
   "name": "python3"
  },
  "language_info": {
   "codemirror_mode": {
    "name": "ipython",
    "version": 3
   },
   "file_extension": ".py",
   "mimetype": "text/x-python",
   "name": "python",
   "nbconvert_exporter": "python",
   "pygments_lexer": "ipython3",
   "version": "3.12.8"
  }
 },
 "nbformat": 4,
 "nbformat_minor": 5
}
